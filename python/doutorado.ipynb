{
 "cells": [
  {
   "cell_type": "code",
   "execution_count": 35,
   "id": "1c8cd5a4",
   "metadata": {},
   "outputs": [],
   "source": [
    "from owlready2 import *"
   ]
  },
  {
   "cell_type": "code",
   "execution_count": 36,
   "id": "5ac4f569",
   "metadata": {},
   "outputs": [],
   "source": [
    "onto = get_ontology(\"/home/alexandre/Documents/Protege-5.6.1-linux/ontologias/python/doutoradoXML\").load()"
   ]
  },
  {
   "cell_type": "code",
   "execution_count": 37,
   "id": "10642ad3",
   "metadata": {},
   "outputs": [],
   "source": [
    "#onto.load(reload=True)"
   ]
  },
  {
   "cell_type": "code",
   "execution_count": 38,
   "id": "5c776854",
   "metadata": {},
   "outputs": [],
   "source": [
    "for i in onto.individuals():\n",
    "    print(i.nome)"
   ]
  },
  {
   "cell_type": "code",
   "execution_count": 39,
   "id": "bd6c7fb7",
   "metadata": {},
   "outputs": [
    {
     "name": "stdout",
     "output_type": "stream",
     "text": [
      "API\n",
      "Activation_Function\n",
      "Bias_Needed_In_a_Layer\n",
      "Calling_Unsupported_Operations_On_CUDA_Tensors\n",
      "Character_Econding\n",
      "Data_Batching_Required\n",
      "Data_Learning\n",
      "Data_Pading\n",
      "Data_Shuffing\n",
      "Decision_Tree\n",
      "Deprecated_API\n",
      "Discarding_Important_Feature\n",
      "Ecolding_of_Categorical\n",
      "Epsilon_or_Adam_Optimizer_Too_Low\n",
      "Error\n",
      "Failure\n",
      "Fault\n",
      "GPU_Tensor_is_Used_Insted_of_CPU_Tensor\n",
      "GPU_Usage\n",
      "Hyperparameters\n",
      "Incompatible_Tensor_Type\n",
      "Incorrect_State_Sharing\n",
      "Input_Scaling\n",
      "Interpolation\n",
      "Layer_Dimensions_Mismatch\n",
      "Layer_Properties\n",
      "Layers\n",
      "Loss_Function\n",
      "Low_Quality_Tranning_Data\n",
      "Missing_API_Call\n",
      "Missing_Argument_Scoping\n",
      "Missing_Average_Pooling_Layer\n",
      "Missing_Data_Argumantation\n",
      "Missing_Dence_Layer\n",
      "Missing_Destination_GPU_Device\n",
      "Missing_Dropout_Layer\n",
      "Missing_Flatten_Layer\n",
      "Missing_Global_Variables_Initialisation\n",
      "Missing_Lose_Function\n",
      "Missing_Making_of_Invalid_Values_to_Zero\n",
      "Missing_Normalization_Layer\n",
      "Missing_Preprocessing\n",
      "Missing_Relu_Activation_Function\n",
      "Missing_Softmax_Activation_Function\n",
      "Missing_Softmax_Layer\n",
      "Missing_Squeeze\n",
      "Missing_Transfer_of_Data_to_GPU_Divece\n",
      "Missing_Validation_Set\n",
      "Model\n",
      "Model_to_Big_to_Fit_Into_Avaliable_Memory\n",
      "Multiple_Initiallisations_of_CNN\n",
      "Neural_Network\n",
      "Normalization\n",
      "Not_Enough_Tranning_Data\n",
      "Optimizer\n",
      "Other\n",
      "Overlaping_Output_Classes_In_Tranning_Data\n",
      "Oversampling\n",
      "Padding\n",
      "Pixel_Ecoding\n",
      "Positional_Encoding\n",
      "Processing_of_Training_Data\n",
      "Redundant_Data_Argumentation\n",
      "Redundant_Softmax_Layer\n",
      "Reference_to_No-existing_Checkpoint\n",
      "Resize_of_Image\n",
      "Small_Range_of_Values_for_a_Feature\n",
      "Softwre_Testing\n",
      "Suboptimal_Batch_Size\n",
      "Suboptimal_Hyperparameters_Tuning\n",
      "Suboptimal_Learning_Rate\n",
      "Suboptimal_Network_Structure\n",
      "Suboptimal_Number_Of_Neurons_In_The_Layer\n",
      "Suboptimal_Number_of_Epochs\n",
      "Subsampling\n",
      "Tensor_Shape_Mismatch\n",
      "Text_Segmentation\n",
      "Too_Many_Output_Categories\n",
      "Traning\n",
      "Traning_Data_Quality\n",
      "Traning_Process\n",
      "Unbalanced_Tranning_Data\n",
      "Wromg_Usage_of_Praceholder_Restoration_API\n",
      "Wrong_API_Usage\n",
      "Wrong_Data_Parallelism_od_CPU\n",
      "Wrong_Defiened_Output_Shape\n",
      "Wrong_Defined_Input_Shape\n",
      "Wrong_Filler_Size_for_a_Covulutional_Layer\n",
      "Wrong_Format_of_Passed_Weights\n",
      "Wrong_Indexing\n",
      "Wrong_Input\n",
      "Wrong_Input_Format\n",
      "Wrong_Input_Format_RNN\n",
      "Wrong_Input_Sample_Size_For_Linear_Layer\n",
      "Wrong_Labels_for_Tranning_Data\n",
      "Wrong_Layer_Type\n",
      "Wrong_Loss_Function_Calculation\n",
      "Wrong_Management_of_Memory_Resources\n",
      "Wrong_Model_Initialisation\n",
      "Wrong_Network_Architecture\n",
      "Wrong_Optimisation_Function\n",
      "Wrong_Performance_Metric\n",
      "Wrong_Position_Of_Data_Shuffe_Operation\n",
      "Wrong_Processing\n",
      "Wrong_Processing_Normalization\n",
      "Wrong_Processing_Padding\n",
      "Wrong_Reference_To_Operational_Graph\n",
      "Wrong_Reference_toGPU_Divece\n",
      "Wrong_Selection_Of_Model\n",
      "Wrong_Selection_of_Features\n",
      "Wrong_Selection_of_Loss_Function\n",
      "Wrong_Shape_Of_Input_Data\n",
      "Wrong_Shape_Of_Input_Data_For_a_Layer\n",
      "Wrong_Shape_of_Input_Data_For_a_Method\n",
      "Wrong_Tensor_Shape\n",
      "Wrong_Tipy_Of_Activation_Function\n",
      "Wrong_Transfer_to_Tensor_Data\n",
      "Wrong_Type_of_Input_Data\n",
      "Wrong_Type_of_Input_Data_For_a_Layer\n",
      "Wrong_Type_of_Input_Data_For_a_Method\n",
      "Wrong_Usage_Of_Image_Decoding_API\n",
      "Wrong_Weights_Initialisation\n",
      "Wrong_of_Pulling_Layer\n",
      "Wrongly_Implemented_Data_Balching\n",
      "Convertion_to_CUDA_Tensor_Insade_Tranning/Test_Loop_icop\n",
      "Incorrect_Train/Test_Data_Split\n",
      "Missing/Redundant/Wrong_Laqyer\n",
      "Missing_Regularization_(Loss_and_Weight)\n",
      "Model_type_&_Properts\n",
      "Tensors_&_Inputs\n",
      "Validation/Testing\n",
      "Wrong_Amount_&_Type_Of_Pooling_In_Covulational_Layer\n",
      "Wrong_Defined_Input_&_Output_Shape\n",
      "Wrongly_Implemented_Data_Transfer_Function_(CPU_GPU)\n"
     ]
    }
   ],
   "source": [
    "for c in onto.classes():\n",
    "    print(c.name)"
   ]
  },
  {
   "cell_type": "code",
   "execution_count": 73,
   "id": "8eebd79f",
   "metadata": {},
   "outputs": [
    {
     "data": {
      "text/plain": [
       "[]"
      ]
     },
     "execution_count": 73,
     "metadata": {},
     "output_type": "execute_result"
    }
   ],
   "source": [
    "list(onto.properties())"
   ]
  },
  {
   "cell_type": "code",
   "execution_count": 77,
   "id": "06592c93",
   "metadata": {},
   "outputs": [
    {
     "data": {
      "text/plain": [
       "[]"
      ]
     },
     "execution_count": 77,
     "metadata": {},
     "output_type": "execute_result"
    }
   ],
   "source": [
    "list(onto.object_properties())"
   ]
  },
  {
   "cell_type": "code",
   "execution_count": 75,
   "id": "34a07f16",
   "metadata": {},
   "outputs": [
    {
     "data": {
      "text/plain": [
       "[]"
      ]
     },
     "execution_count": 75,
     "metadata": {},
     "output_type": "execute_result"
    }
   ],
   "source": [
    "list(onto.data_properties())"
   ]
  },
  {
   "cell_type": "code",
   "execution_count": 76,
   "id": "57930f05",
   "metadata": {},
   "outputs": [
    {
     "data": {
      "text/plain": [
       "[]"
      ]
     },
     "execution_count": 76,
     "metadata": {},
     "output_type": "execute_result"
    }
   ],
   "source": [
    "list(onto.annotation_properties())"
   ]
  },
  {
   "cell_type": "code",
   "execution_count": 72,
   "id": "feb9bf67",
   "metadata": {},
   "outputs": [
    {
     "data": {
      "text/plain": [
       "[]"
      ]
     },
     "execution_count": 72,
     "metadata": {},
     "output_type": "execute_result"
    }
   ],
   "source": [
    "list(onto.disjoints())"
   ]
  },
  {
   "cell_type": "code",
   "execution_count": 70,
   "id": "2ec66d45",
   "metadata": {},
   "outputs": [
    {
     "data": {
      "text/plain": [
       "[]"
      ]
     },
     "execution_count": 70,
     "metadata": {},
     "output_type": "execute_result"
    }
   ],
   "source": [
    "list(onto.disjoint_classes())"
   ]
  },
  {
   "cell_type": "code",
   "execution_count": 71,
   "id": "5a10cde1",
   "metadata": {},
   "outputs": [
    {
     "data": {
      "text/plain": [
       "[]"
      ]
     },
     "execution_count": 71,
     "metadata": {},
     "output_type": "execute_result"
    }
   ],
   "source": [
    "list(onto.disjoint_properties())"
   ]
  },
  {
   "cell_type": "code",
   "execution_count": 47,
   "id": "02ca6b48",
   "metadata": {},
   "outputs": [],
   "source": [
    "list(onto.different_individuals())"
   ]
  },
  {
   "cell_type": "code",
   "execution_count": 69,
   "id": "1894d5d0",
   "metadata": {},
   "outputs": [
    {
     "data": {
      "text/plain": [
       "[]"
      ]
     },
     "execution_count": 69,
     "metadata": {},
     "output_type": "execute_result"
    }
   ],
   "source": [
    "list(onto.rules())"
   ]
  },
  {
   "cell_type": "code",
   "execution_count": 68,
   "id": "2f58adad",
   "metadata": {},
   "outputs": [
    {
     "data": {
      "text/plain": [
       "[]"
      ]
     },
     "execution_count": 68,
     "metadata": {},
     "output_type": "execute_result"
    }
   ],
   "source": [
    "list(onto.variables())\n"
   ]
  },
  {
   "cell_type": "code",
   "execution_count": 74,
   "id": "68acab68",
   "metadata": {},
   "outputs": [
    {
     "data": {
      "text/plain": [
       "[]"
      ]
     },
     "execution_count": 74,
     "metadata": {},
     "output_type": "execute_result"
    }
   ],
   "source": [
    "list(onto.general_axioms())"
   ]
  },
  {
   "cell_type": "code",
   "execution_count": 55,
   "id": "af9ee2ee",
   "metadata": {},
   "outputs": [
    {
     "data": {
      "text/plain": [
       "True"
      ]
     },
     "execution_count": 55,
     "metadata": {},
     "output_type": "execute_result"
    }
   ],
   "source": [
    "issubclass(onto.Missing_API_Call, onto.API)"
   ]
  },
  {
   "cell_type": "code",
   "execution_count": 57,
   "id": "80a4d5fd",
   "metadata": {},
   "outputs": [
    {
     "data": {
      "text/plain": [
       "True"
      ]
     },
     "execution_count": 57,
     "metadata": {},
     "output_type": "execute_result"
    }
   ],
   "source": [
    "issubclass(onto.Neural_Network, onto.Data_Learning)"
   ]
  },
  {
   "cell_type": "code",
   "execution_count": 59,
   "id": "d0ed85ed",
   "metadata": {},
   "outputs": [
    {
     "data": {
      "text/plain": [
       "[doutoradoXML.Decision_Tree, doutoradoXML.Neural_Network]"
      ]
     },
     "execution_count": 59,
     "metadata": {},
     "output_type": "execute_result"
    }
   ],
   "source": [
    "list(onto.Data_Learning.subclasses())"
   ]
  },
  {
   "cell_type": "code",
   "execution_count": 62,
   "id": "fe2f917c",
   "metadata": {},
   "outputs": [
    {
     "data": {
      "text/plain": [
       "[doutoradoXML.Data_Learning,\n",
       " doutoradoXML.Decision_Tree,\n",
       " doutoradoXML.Neural_Network]"
      ]
     },
     "execution_count": 62,
     "metadata": {},
     "output_type": "execute_result"
    }
   ],
   "source": [
    "list(onto.Data_Learning.descendants())"
   ]
  },
  {
   "cell_type": "code",
   "execution_count": 63,
   "id": "92323236",
   "metadata": {},
   "outputs": [
    {
     "data": {
      "text/plain": [
       "[doutoradoXML.Decision_Tree, doutoradoXML.Neural_Network]"
      ]
     },
     "execution_count": 63,
     "metadata": {},
     "output_type": "execute_result"
    }
   ],
   "source": [
    "list(onto.Data_Learning.descendants(include_self= False))"
   ]
  },
  {
   "cell_type": "code",
   "execution_count": 66,
   "id": "58bca842",
   "metadata": {},
   "outputs": [
    {
     "data": {
      "text/plain": [
       "<generator object PreparedSelectQuery.execute_flat at 0x7f63cbdb4270>"
      ]
     },
     "execution_count": 66,
     "metadata": {},
     "output_type": "execute_result"
    }
   ],
   "source": [
    "onto.Data_Learning.instances()"
   ]
  },
  {
   "cell_type": "code",
   "execution_count": 78,
   "id": "9bb1a2d4",
   "metadata": {},
   "outputs": [
    {
     "data": {
      "text/plain": [
       "[doutoradoXML.Error]"
      ]
     },
     "execution_count": 78,
     "metadata": {},
     "output_type": "execute_result"
    }
   ],
   "source": [
    "onto.search(iri=\"*Error*\")"
   ]
  },
  {
   "cell_type": "code",
   "execution_count": null,
   "id": "1f933d75",
   "metadata": {},
   "outputs": [],
   "source": []
  }
 ],
 "metadata": {
  "kernelspec": {
   "display_name": "Python 3",
   "language": "python",
   "name": "python3"
  },
  "language_info": {
   "codemirror_mode": {
    "name": "ipython",
    "version": 3
   },
   "file_extension": ".py",
   "mimetype": "text/x-python",
   "name": "python",
   "nbconvert_exporter": "python",
   "pygments_lexer": "ipython3",
   "version": "3.8.10"
  }
 },
 "nbformat": 4,
 "nbformat_minor": 5
}
